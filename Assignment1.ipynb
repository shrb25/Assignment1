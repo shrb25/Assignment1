{
 "cells": [
  {
   "cell_type": "raw",
   "id": "a16af3e1-22cf-4abc-950b-8a5aaa7ecfb2",
   "metadata": {},
   "source": [
    "1. What is Python, and why is it popular ?\n",
    " Python is a general purpose programming language which is easy to read and write. Hence it is used widely all over the world. It has many applications and scope.It has many libraries like matplotlib, pandas which are widely used in data industrty for data manipulation and computation.\n",
    "2. What is an interpreter in Python ?\n",
    " It reads and executes the python code line by line. It is a key component of python programming language . It allows developers to run the script and interact with the language.\n",
    "3. What are pre-defined keywords in Python ?\n",
    " Words which have a definite meaning and are pre-defined are called keywords in python. They have a specific usage and are used for specific purpose in pyhton. Example- try, class, def etc.\n",
    "4. Can keywords be used as variable names ?\n",
    " No python keywords cant be used as varible names. It will throw and error if we try to do that as they are words reserved for specific usage in python.\n",
    "5. What is mutability in Python?\n",
    "   Changing or editing the value of a variable or identifier in python is called mutability. Lists , sets,dictionaries are mutable data types in pyth. Whereas string ,tuples are immutable datatypes.\n",
    "6. Why are lists mutable, but tuples are immutable?\n",
    "   Lists are mutable in python as it is possible to edit or changing the value inside the lists so they are mutable. values can be added and removed also using functions like append() and remove(). Tuples are immutable because the values inside the tuples cant be edited once defined. It cant be added or removed as well. Tuples are used in defining data types which cant be edited later like Adhaar number, Pan number etc\n",
    "7.  What is the difference between “==” and “is” operators in Python?\n",
    "  == operator is used to check if two values are equal in memory. whereas 'is' operator is used to check that if two references point to the same memory location or not. Example: \n",
    "a=3\n",
    "b=3\n",
    "if (a==b):\n",
    "  print(\"a is equal to b\")\n",
    "a is b\n",
    "True\n",
    "8.What are logical operators in Python?\n",
    "  In python logical operators are used to find the OR , AND and NOT between two values. if one value is true and other is false then AND operator returns false. if both the values are True then AND operator returns True. Whereas if even one value is true and the other is false then OR operator returns true. NOT operator returns the reverse of the value. if it is true it will return false or vice versa.\n",
    "9. What is type casting in Python?\n",
    "Converting of one data type into another data type is called typecasting in python. It is of two types implicit and explicit. When python implicitly recognizes data type associated with a value it is called implicit typecasting.\n",
    "a=3\n",
    "type(a)\n",
    "int\n",
    "10. What is the difference between implicit and explicit type casting?\n",
    "When python implicitly recognizes data type associated with a value it is called implicit typecasting. When python specifically converts one data type into another by mentioning the name of that data type it is called explicit typecasting. example : converting of integer data type to string by mentioning str().\n",
    "11. What is the purpose of conditional statements in Python?\n",
    "The purpose of conditional statements in Python is to control the flow of a program by making decisions based on certain conditions. Example: if else, if elif else, nested if else\n",
    "12. How does the elif statement work?\n",
    " in python elif is short form of elseif. If the first statement is not true and you want to check the value of another condition then we use elseif statement. Otherwise if all the statements are wrong then last else condition will be executed.\n",
    "13.What is the difference between for and while loops?\n",
    " While loop in python is used to implement a block of code in python unless a particular condition is true. For example while(count>=10)\n",
    "so it will be executed until value of count is greater than or equal to 10. when the value of count becomes greater it wont be executed.\n",
    "For loop in python is used to iterate through a block of code for the specific number of iterations mentioned in for loop. For i in  range(10):\n",
    "so it will have ten iterations from 0 to 9.\n",
    "14.Describe a scenario where a while loop is more suitable than a for loop.\n",
    "You would use a while loop if you do not know how many times a loop will need to run because while loops are ideal when the number of iterations is not predetermined. To do number calculations, both while and for loops can be used, but typically a for loop is preferred if you know the exact number of iterations"
   ]
  },
  {
   "cell_type": "code",
   "execution_count": 2,
   "id": "342871e8-d37c-4655-863e-e00838630fb3",
   "metadata": {},
   "outputs": [
    {
     "name": "stdout",
     "output_type": "stream",
     "text": [
      "Hello, World!\n"
     ]
    }
   ],
   "source": [
    "#1. Write a Python program to print \"Hello, World!\n",
    "print(\"Hello, World!\")"
   ]
  },
  {
   "cell_type": "code",
   "execution_count": 5,
   "id": "267e73cc-4f0e-43f1-8c0f-ff319747bc55",
   "metadata": {},
   "outputs": [
    {
     "name": "stdin",
     "output_type": "stream",
     "text": [
      "Enter your name: Shruti\n",
      "Enter your age: 32\n"
     ]
    },
    {
     "name": "stdout",
     "output_type": "stream",
     "text": [
      "Shruti\n",
      "32\n"
     ]
    }
   ],
   "source": [
    "#2. Write a Python program that displays your name and age?\n",
    "name=input(\"Enter your name:\")\n",
    "age=int(input(\"Enter your age:\"))\n",
    "print(name)\n",
    "print(age)"
   ]
  },
  {
   "cell_type": "code",
   "execution_count": 9,
   "id": "1ff18fa7-4ee2-4b38-80d3-38612baa2db3",
   "metadata": {},
   "outputs": [
    {
     "name": "stdout",
     "output_type": "stream",
     "text": [
      "\n",
      "Here is a list of the Python keywords.  Enter any keyword to get more help.\n",
      "\n",
      "False               class               from                or\n",
      "None                continue            global              pass\n",
      "True                def                 if                  raise\n",
      "and                 del                 import              return\n",
      "as                  elif                in                  try\n",
      "assert              else                is                  while\n",
      "async               except              lambda              with\n",
      "await               finally             nonlocal            yield\n",
      "break               for                 not                 \n",
      "\n"
     ]
    }
   ],
   "source": [
    "#3.Write code to print all the pre-defined keywords in Python using the keyword library?\n",
    "help(\"keywords\")"
   ]
  },
  {
   "cell_type": "code",
   "execution_count": 4,
   "id": "6b0b9c4d-5a34-4c8f-9cfc-3eae03102f4b",
   "metadata": {},
   "outputs": [
    {
     "name": "stdout",
     "output_type": "stream",
     "text": [
      "try is a python keyword\n",
      "shruti is not a python keyword\n",
      "len is not a python keyword\n",
      "dude is not a python keyword\n"
     ]
    }
   ],
   "source": [
    "#4.Write a program that checks if a given word is a Python keyword?\n",
    "import keyword\n",
    "l=[\"try\",\"shruti\",\"len\",\"dude\"]\n",
    "for i in range(len(l)):\n",
    "    if keyword.iskeyword(l[i]):\n",
    "        print(l[i] + \" is a python keyword\")\n",
    "    else:\n",
    "        print(l[i]+ \" is not a python keyword\")"
   ]
  },
  {
   "cell_type": "code",
   "execution_count": 8,
   "id": "c6c16f17-6663-4934-a9b0-f64d68d737d0",
   "metadata": {},
   "outputs": [
    {
     "data": {
      "text/plain": [
       "[5, 2, 3, 4, 'pwskills']"
      ]
     },
     "execution_count": 8,
     "metadata": {},
     "output_type": "execute_result"
    }
   ],
   "source": [
    "#5 .Create a list and tuple in Python, and demonstrate how attempting to change an element works differently\n",
    "lis=[1,2,3,4,\"pwskills\"]\n",
    "tup=(1,2,3,4)\n",
    "lis[0]=5\n",
    "lis"
   ]
  },
  {
   "cell_type": "code",
   "execution_count": 9,
   "id": "da08b2f3-37c8-4627-8c94-a4ef9f9128e1",
   "metadata": {},
   "outputs": [
    {
     "ename": "TypeError",
     "evalue": "'tuple' object does not support item assignment",
     "output_type": "error",
     "traceback": [
      "\u001b[1;31m---------------------------------------------------------------------------\u001b[0m",
      "\u001b[1;31mTypeError\u001b[0m                                 Traceback (most recent call last)",
      "Cell \u001b[1;32mIn[9], line 1\u001b[0m\n\u001b[1;32m----> 1\u001b[0m tup[\u001b[38;5;241m0\u001b[39m]\u001b[38;5;241m=\u001b[39m\u001b[38;5;241m6\u001b[39m\n",
      "\u001b[1;31mTypeError\u001b[0m: 'tuple' object does not support item assignment"
     ]
    }
   ],
   "source": [
    "tup[0]=6"
   ]
  },
  {
   "cell_type": "code",
   "execution_count": 11,
   "id": "a3dac3f1-6c00-4250-a01f-f15f32e74188",
   "metadata": {},
   "outputs": [
    {
     "ename": "TypeError",
     "evalue": "'tuple' object does not support item assignment",
     "output_type": "error",
     "traceback": [
      "\u001b[1;31m---------------------------------------------------------------------------\u001b[0m",
      "\u001b[1;31mTypeError\u001b[0m                                 Traceback (most recent call last)",
      "Cell \u001b[1;32mIn[11], line 3\u001b[0m\n\u001b[0;32m      1\u001b[0m \u001b[38;5;66;03m#6.Write a function to demonstrate the behavior of mutable and immutable arguments?\u001b[39;00m\n\u001b[0;32m      2\u001b[0m tuple1 \u001b[38;5;241m=\u001b[39m(\u001b[38;5;241m1\u001b[39m,\u001b[38;5;241m2\u001b[39m,\u001b[38;5;241m3\u001b[39m,\u001b[38;5;241m4\u001b[39m)\n\u001b[1;32m----> 3\u001b[0m tuple1[\u001b[38;5;241m0\u001b[39m]\u001b[38;5;241m=\u001b[39m\u001b[38;5;241m5\u001b[39m\n\u001b[0;32m      4\u001b[0m \u001b[38;5;28mprint\u001b[39m(tuple1)\n\u001b[0;32m      5\u001b[0m \u001b[38;5;66;03m#hence we can see that tuples are immutable.\u001b[39;00m\n",
      "\u001b[1;31mTypeError\u001b[0m: 'tuple' object does not support item assignment"
     ]
    }
   ],
   "source": [
    "#6.Write a function to demonstrate the behavior of mutable and immutable arguments?\n",
    "tuple1 =(1,2,3,4)\n",
    "tuple1[0]=5\n",
    "print(tuple1)\n",
    "#hence we can see that tuples are immutable.\n"
   ]
  },
  {
   "cell_type": "code",
   "execution_count": 13,
   "id": "d635b227-f81b-45fb-a78c-07102457d7e2",
   "metadata": {},
   "outputs": [
    {
     "data": {
      "text/plain": [
       "[5, 2, 3, 4]"
      ]
     },
     "execution_count": 13,
     "metadata": {},
     "output_type": "execute_result"
    }
   ],
   "source": [
    "list1=[1,2,3,4]\n",
    "list1[0]=5\n",
    "list1"
   ]
  },
  {
   "cell_type": "code",
   "execution_count": 1,
   "id": "dc24e188-94a0-43b0-89b8-7281c51f0424",
   "metadata": {},
   "outputs": [
    {
     "data": {
      "text/plain": [
       "4"
      ]
     },
     "execution_count": 1,
     "metadata": {},
     "output_type": "execute_result"
    }
   ],
   "source": [
    "#8.Write a program to demonstrate the use of logical operators?\n",
    "a=8\n",
    "b=4\n",
    "a and b"
   ]
  },
  {
   "cell_type": "code",
   "execution_count": 2,
   "id": "7a4a584b-4b06-4754-b6f3-17677a68a02f",
   "metadata": {},
   "outputs": [
    {
     "data": {
      "text/plain": [
       "8"
      ]
     },
     "execution_count": 2,
     "metadata": {},
     "output_type": "execute_result"
    }
   ],
   "source": [
    "a or b"
   ]
  },
  {
   "cell_type": "code",
   "execution_count": 4,
   "id": "2570c15b-e1f0-4a25-a6c5-88ddcba5df19",
   "metadata": {},
   "outputs": [
    {
     "name": "stdout",
     "output_type": "stream",
     "text": [
      "False\n"
     ]
    }
   ],
   "source": [
    "print(not a)"
   ]
  },
  {
   "cell_type": "code",
   "execution_count": 5,
   "id": "45b83aa1-9ecb-4492-ab38-690f981bfb8a",
   "metadata": {},
   "outputs": [
    {
     "name": "stdout",
     "output_type": "stream",
     "text": [
      "False\n"
     ]
    }
   ],
   "source": [
    "print(not b)"
   ]
  },
  {
   "cell_type": "code",
   "execution_count": 10,
   "id": "6780337a-a3b8-4353-a257-203e3d832b39",
   "metadata": {},
   "outputs": [
    {
     "name": "stdin",
     "output_type": "stream",
     "text": [
      "ENTER YOUR AGE 16\n"
     ]
    },
    {
     "name": "stdout",
     "output_type": "stream",
     "text": [
      "my age in integer is 16\n"
     ]
    }
   ],
   "source": [
    "#9.Write a Python program to convert user input from string to integer, float, and boolean types?\n",
    "age=input(\"ENTER YOUR AGE\")\n",
    "int(age)\n",
    "print(\"my age in integer is\",age)"
   ]
  },
  {
   "cell_type": "code",
   "execution_count": 14,
   "id": "085acfeb-4aeb-41c3-b94a-4dc2ffad1a77",
   "metadata": {},
   "outputs": [
    {
     "name": "stdout",
     "output_type": "stream",
     "text": [
      "my age in float is 16\n"
     ]
    }
   ],
   "source": [
    "float(age)\n",
    "print(\"my age in float is\",age)"
   ]
  },
  {
   "cell_type": "code",
   "execution_count": 18,
   "id": "a8b3bfd3-1341-43b3-b5f8-caa0efc526b8",
   "metadata": {},
   "outputs": [
    {
     "name": "stdout",
     "output_type": "stream",
     "text": [
      "16\n"
     ]
    }
   ],
   "source": [
    "if bool(age):\n",
    "    print(age)"
   ]
  },
  {
   "cell_type": "code",
   "execution_count": 27,
   "id": "068b9144-34b2-4978-813a-cafa78b71953",
   "metadata": {},
   "outputs": [
    {
     "name": "stdout",
     "output_type": "stream",
     "text": [
      "1.0\n",
      "2.0\n",
      "3.0\n",
      "4.0\n"
     ]
    }
   ],
   "source": [
    "#10.Write code to demonstrate type casting with list elements?\n",
    "lis=[1,2,3,4]\n",
    "for i in range(0,len(lis)):\n",
    "    lis[i]= float(lis[i])\n",
    "    print(lis[i])"
   ]
  },
  {
   "cell_type": "code",
   "execution_count": 30,
   "id": "647f172a-cb73-4ebe-a858-618843166e37",
   "metadata": {},
   "outputs": [
    {
     "name": "stdin",
     "output_type": "stream",
     "text": [
      "Enter any number: 5\n"
     ]
    },
    {
     "name": "stdout",
     "output_type": "stream",
     "text": [
      "5 is positive\n"
     ]
    }
   ],
   "source": [
    "#11.Write a program that checks if a number is positive, negative, or zero?\n",
    "num=int(input(\"Enter any number:\"))\n",
    "if num==0:\n",
    "    print(f\"{num} is equal to zero\")\n",
    "elif num>0:\n",
    "    print(f\"{num} is positive\")\n",
    "else:\n",
    "    pritn(f\"{num} is negative\")"
   ]
  },
  {
   "cell_type": "code",
   "execution_count": 34,
   "id": "a0bb6395-d033-48a4-bff0-4ac00d4ee3d4",
   "metadata": {},
   "outputs": [
    {
     "name": "stdout",
     "output_type": "stream",
     "text": [
      "1 2 3 4 5 6 7 8 9 10 "
     ]
    }
   ],
   "source": [
    "#12.Write a for loop to print numbers from 1 to 10?\n",
    "num=10\n",
    "for i in range(1,num+1):\n",
    "    print(i,end=\" \")"
   ]
  },
  {
   "cell_type": "code",
   "execution_count": 35,
   "id": "06fa2855-1ea9-4fba-84ef-a816e5fcdc0e",
   "metadata": {},
   "outputs": [
    {
     "name": "stdout",
     "output_type": "stream",
     "text": [
      "The sum of numbers between 1 and 50 is: 650\n"
     ]
    }
   ],
   "source": [
    "#13.Write a Python program to find the sum of all even numbers between 1 and 50?\n",
    "sum=0\n",
    "for i in range(1,51):\n",
    "    if i%2==0:\n",
    "        sum=sum+i\n",
    "print(\"The sum of numbers between 1 and 50 is:\",sum)\n",
    "        "
   ]
  },
  {
   "cell_type": "code",
   "execution_count": 39,
   "id": "e549729d-2ee6-45a1-bd53-cae054dcb3ef",
   "metadata": {},
   "outputs": [
    {
     "name": "stdin",
     "output_type": "stream",
     "text": [
      "Enter your name Shr\n"
     ]
    },
    {
     "name": "stdout",
     "output_type": "stream",
     "text": [
      "Reverse of your name is: rhS\n"
     ]
    }
   ],
   "source": [
    "#14.Write a program to reverse a string using a while loop?\n",
    "st=input(\"Enter your name\")\n",
    "rev_st=\"\"\n",
    "count=len(st)\n",
    "for i in st:\n",
    "    rev_st=rev_st+st[count-1]\n",
    "    count=count-1\n",
    "print(\"Reverse of your name is:\",rev_st)"
   ]
  },
  {
   "cell_type": "code",
   "execution_count": 41,
   "id": "d030fcac-aefd-4011-a92a-18921e64e98a",
   "metadata": {},
   "outputs": [
    {
     "name": "stdin",
     "output_type": "stream",
     "text": [
      "Enter any number to find the factorial 5\n"
     ]
    },
    {
     "name": "stdout",
     "output_type": "stream",
     "text": [
      "the factorial of the number is: 120\n"
     ]
    }
   ],
   "source": [
    "#15.Write a Python program to calculate the factorial of a number provided by the user using a while loop?\n",
    "num=int(input(\"Enter any number to find the factorial\"))\n",
    "fact=1\n",
    "for i in range(1,num+1):\n",
    "    fact=fact*i\n",
    "print(\"the factorial of the number is:\",fact)"
   ]
  },
  {
   "cell_type": "code",
   "execution_count": null,
   "id": "5f4f457c-f309-4fd6-bba5-ec34dc8991f0",
   "metadata": {},
   "outputs": [],
   "source": []
  }
 ],
 "metadata": {
  "kernelspec": {
   "display_name": "Python 3 (ipykernel)",
   "language": "python",
   "name": "python3"
  },
  "language_info": {
   "codemirror_mode": {
    "name": "ipython",
    "version": 3
   },
   "file_extension": ".py",
   "mimetype": "text/x-python",
   "name": "python",
   "nbconvert_exporter": "python",
   "pygments_lexer": "ipython3",
   "version": "3.12.7"
  }
 },
 "nbformat": 4,
 "nbformat_minor": 5
}
